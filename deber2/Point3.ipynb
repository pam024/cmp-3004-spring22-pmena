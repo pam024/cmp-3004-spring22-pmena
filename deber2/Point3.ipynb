{
 "cells": [
  {
   "cell_type": "code",
   "execution_count": null,
   "id": "150955eb",
   "metadata": {},
   "outputs": [],
   "source": [
    "For the following memory space, what would it look like after executing the assembly code below: \n",
    "    LOAD 14\n",
    "    ADD (12)\n",
    "    STORE 12"
   ]
  },
  {
   "cell_type": "markdown",
   "id": "afbd0cb2",
   "metadata": {},
   "source": [
    "|Address|Contents|\n",
    "|-------|--------|\n",
    "|10|1|\n",
    "|11|4|\n",
    "|12|5|\n",
    "|13|112|\n",
    "|14|7|"
   ]
  },
  {
   "cell_type": "code",
   "execution_count": null,
   "id": "fa0ed324",
   "metadata": {},
   "outputs": [],
   "source": [
    "LOAD 14   ;carga el contenido '14' en el acumludador"
   ]
  },
  {
   "cell_type": "code",
   "execution_count": null,
   "id": "c93aab10",
   "metadata": {},
   "outputs": [],
   "source": [
    "ADD (12)  ;agrega el contenido '12' a los contenidos del acumulador = 26"
   ]
  },
  {
   "cell_type": "code",
   "execution_count": null,
   "id": "43e66bc0",
   "metadata": {},
   "outputs": [],
   "source": [
    "STORE 12  ;guarda el resultado del acumulador en la direccion de memoria 12"
   ]
  },
  {
   "cell_type": "markdown",
   "id": "a78761fb",
   "metadata": {},
   "source": [
    "|Address|Contents|\n",
    "|-------|--------|\n",
    "|10|1|\n",
    "|11|4|\n",
    "|12|26|\n",
    "|13|112|\n",
    "|14|7|"
   ]
  }
 ],
 "metadata": {
  "kernelspec": {
   "display_name": "Python 3 (ipykernel)",
   "language": "python",
   "name": "python3"
  },
  "language_info": {
   "codemirror_mode": {
    "name": "ipython",
    "version": 3
   },
   "file_extension": ".py",
   "mimetype": "text/x-python",
   "name": "python",
   "nbconvert_exporter": "python",
   "pygments_lexer": "ipython3",
   "version": "3.8.10"
  }
 },
 "nbformat": 4,
 "nbformat_minor": 5
}
