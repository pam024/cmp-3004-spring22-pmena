{
 "cells": [
  {
   "cell_type": "code",
   "execution_count": 3,
   "id": "33cde509",
   "metadata": {},
   "outputs": [
    {
     "data": {
      "text/html": [
       "Changes: <br /><table><tr><th>Type</th><th>Identifier</th><th>Value</th><tr><td>Register</td><td>EAX</td>\n",
       "            <td>0</td></tr><tr><td>Register</td><td>EBX</td>\n",
       "            <td>50</td></tr><tr><td>Register</td><td>ECX</td>\n",
       "            <td>0</td></tr><tr><td>Register</td><td>EBP</td>\n",
       "            <td>0</td></tr><tr><td>Flag</td><td>ZF</td>\n",
       "            <td>1</td></tr><tr><td>Flag</td><td>SF</td>\n",
       "            <td>0</td></tr></table>"
      ]
     },
     "metadata": {},
     "output_type": "display_data"
    }
   ],
   "source": [
    ";A) Obtain 50th Fibonacci Number\n",
    "\n",
    "main:      mov eax, 50\n",
    "           push eax\n",
    "           xor eax, eax\n",
    "           call fib\n",
    "           pop ebx\n",
    "           mov ecx, eax\n",
    "           xor eax, eax\n",
    "           int 32\n",
    "\n",
    "fib:       push ebp\n",
    "           mov ebp, esp\n",
    "           mov ebx, [ebp + 2]\n",
    "           mov ecx, 1\n",
    "           cmp ebx, ecx\n",
    "           je basecase1\n",
    "           xor ecx, ecx\n",
    "           cmp ebx, ecx\n",
    "           jle basecase0\n",
    "           dec ebx\n",
    "           push ebx\n",
    "           call fib\n",
    "           pop ebx\n",
    "           dec ebx\n",
    "           push eax\n",
    "           push ebx\n",
    "           call fib\n",
    "           pop ebx\n",
    "           pop ecx\n",
    "           add eax, ecx\n",
    "           pop ebp\n",
    "           ret\n",
    "\n",
    "basecase1: mov eax, 1\n",
    "           pop ebp\n",
    "           ret\n",
    "\n",
    "basecase0: mov eax, 0\n",
    "           pop ebp\n",
    "           ret"
   ]
  },
  {
   "cell_type": "code",
   "execution_count": null,
   "id": "87dfbafb",
   "metadata": {},
   "outputs": [],
   "source": [
    ";B) Find out if a given year is leap\n",
    ";In files LeapYear.c and LeapYear.s"
   ]
  },
  {
   "cell_type": "code",
   "execution_count": 35,
   "id": "9d447ef4",
   "metadata": {},
   "outputs": [
    {
     "data": {
      "text/html": [
       "Changes: <br /><table><tr><th>Type</th><th>Identifier</th><th>Value</th><tr><td>Register</td><td>EAX</td>\n",
       "            <td>0</td></tr><tr><td>Register</td><td>EBX</td>\n",
       "            <td>1</td></tr><tr><td>Register</td><td>ECX</td>\n",
       "            <td>8</td></tr><tr><td>Register</td><td>EDX</td>\n",
       "            <td>3</td></tr><tr><td>Flag</td><td>ZF</td>\n",
       "            <td>0</td></tr><tr><td>Flag</td><td>SF</td>\n",
       "            <td>1</td></tr></table>"
      ]
     },
     "metadata": {},
     "output_type": "display_data"
    }
   ],
   "source": [
    ";C) Calculate the average of an array\n",
    ".data\n",
    "    x DB 3, 8, 5, 2\n",
    "\n",
    ".text\n",
    "    mov eax, 0\n",
    "    mov ebx, 0\n",
    "    mov edx, 0\n",
    "    mov ecx, [x+1]\n",
    "    \n",
    "    cmp ebx, ecx\n",
    "    idiv ecx\n",
    "    \n",
    "    add eax, [ebx]\n",
    "    inc ebx\n",
    "    \n",
    "    cmp ebx, ecx\n",
    "    idiv ecx\n"
   ]
  },
  {
   "cell_type": "code",
   "execution_count": 80,
   "id": "8d829601",
   "metadata": {},
   "outputs": [
    {
     "data": {
      "text/html": [
       "Changes: <br /><table><tr><th>Type</th><th>Identifier</th><th>Value</th><tr><td>Register</td><td>EAX</td>\n",
       "            <td>95</td></tr><tr><td>Register</td><td>EBX</td>\n",
       "            <td>5</td></tr><tr><td>Register</td><td>EDX</td>\n",
       "            <td>2</td></tr><tr><td>Memory</td><td>1</td>\n",
       "            <td>95</td></tr></table>"
      ]
     },
     "metadata": {},
     "output_type": "display_data"
    }
   ],
   "source": [
    ";D) Convert from Celsius to Fahrenheit\n",
    ".data\n",
    "    cTemp DW 35\n",
    "    fTemp DW ?\n",
    "\n",
    ".text\n",
    "    mov eax, [cTemp]\n",
    "    imul eax, 9\n",
    "    add eax, 2\n",
    "    mov ebx, 5\n",
    "    idiv ebx \n",
    "    add eax, 32\n",
    "    mov [fTemp], eax"
   ]
  },
  {
   "cell_type": "code",
   "execution_count": 92,
   "id": "d5f1e449",
   "metadata": {},
   "outputs": [
    {
     "data": {
      "text/html": [
       "Changes: <br /><table><tr><th>Type</th><th>Identifier</th><th>Value</th><tr><td>Register</td><td>EAX</td>\n",
       "            <td>35</td></tr><tr><td>Register</td><td>EBX</td>\n",
       "            <td>9</td></tr><tr><td>Register</td><td>EDX</td>\n",
       "            <td>0</td></tr><tr><td>Memory</td><td>1</td>\n",
       "            <td>35</td></tr></table>"
      ]
     },
     "metadata": {},
     "output_type": "display_data"
    }
   ],
   "source": [
    ";D) Convert from Fahrenheit to Celsius\n",
    ".data\n",
    "    fTemp DW 95\n",
    "    cTemp DW ?\n",
    "\n",
    ".text\n",
    "    mov eax, [fTemp]\n",
    "    sub eax, 32\n",
    "    imul eax, 5\n",
    "\n",
    "    mov ebx, 9\n",
    "    idiv ebx \n",
    "    mov [cTemp], eax"
   ]
  }
 ],
 "metadata": {
  "kernelspec": {
   "display_name": "Intel",
   "language": "",
   "name": "intel"
  },
  "language_info": {
   "file_extension": "x86",
   "mimetype": "intel",
   "name": "intel"
  }
 },
 "nbformat": 4,
 "nbformat_minor": 5
}
