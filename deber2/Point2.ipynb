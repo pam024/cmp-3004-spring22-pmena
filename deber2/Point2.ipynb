{
 "cells": [
  {
   "cell_type": "code",
   "execution_count": null,
   "id": "ac715518",
   "metadata": {},
   "outputs": [],
   "source": [
    "For a 16 bit word with 6 bits for an opcode."
   ]
  },
  {
   "cell_type": "code",
   "execution_count": null,
   "id": "9572ee62",
   "metadata": {},
   "outputs": [],
   "source": [
    "How many different instructions could I fit into the instruction set?"
   ]
  },
  {
   "cell_type": "code",
   "execution_count": 2,
   "id": "18e37112",
   "metadata": {},
   "outputs": [
    {
     "data": {
      "text/plain": [
       "64"
      ]
     },
     "execution_count": 2,
     "metadata": {},
     "output_type": "execute_result"
    }
   ],
   "source": [
    "2**6"
   ]
  },
  {
   "cell_type": "code",
   "execution_count": null,
   "id": "f05d95e6",
   "metadata": {},
   "outputs": [],
   "source": [
    "What is the largest number that I could use as data?"
   ]
  },
  {
   "cell_type": "code",
   "execution_count": 5,
   "id": "b127d6b6",
   "metadata": {},
   "outputs": [
    {
     "data": {
      "text/plain": [
       "1023"
      ]
     },
     "execution_count": 5,
     "metadata": {},
     "output_type": "execute_result"
    }
   ],
   "source": [
    "(2**10)-1"
   ]
  }
 ],
 "metadata": {
  "kernelspec": {
   "display_name": "Python 3 (ipykernel)",
   "language": "python",
   "name": "python3"
  },
  "language_info": {
   "codemirror_mode": {
    "name": "ipython",
    "version": 3
   },
   "file_extension": ".py",
   "mimetype": "text/x-python",
   "name": "python",
   "nbconvert_exporter": "python",
   "pygments_lexer": "ipython3",
   "version": "3.8.10"
  }
 },
 "nbformat": 4,
 "nbformat_minor": 5
}
